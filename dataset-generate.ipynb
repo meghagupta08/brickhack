{
 "cells": [
  {
   "cell_type": "markdown",
   "id": "3617dcbe-8271-4938-ba81-633c906b2884",
   "metadata": {},
   "source": [
    "## Create User data"
   ]
  },
  {
   "cell_type": "code",
   "execution_count": 21,
   "id": "dd35c84a-ed53-4d6f-b2e4-b5264264c438",
   "metadata": {},
   "outputs": [],
   "source": [
    "import csv\n",
    "import random\n",
    "import string\n",
    "\n",
    "# Generate random email address\n",
    "def generate_email():\n",
    "    domains = ['gmail.com', 'yahoo.com', 'hotmail.com', 'outlook.com']\n",
    "    email = ''.join(random.choices(string.ascii_lowercase, k=8))\n",
    "    domain = random.choice(domains)\n",
    "    return f'{email}@{domain}'\n",
    "\n",
    "# Generate random password\n",
    "def generate_password():\n",
    "    return ''.join(random.choices(string.ascii_letters + string.digits, k=10))\n",
    "\n",
    "# Generate user data\n",
    "user_data = []\n",
    "username = [\"Mayank\",\"Suvrat\",\"Megha\",\"Aishwarya\",\"Anoushka\",\"Chirag\",\"Nikita\",\"Raj\",\"Yash\",\"Abhishek\",\"Chandler\",\"Phoebe\"]\n",
    "for i in range(1, 12):\n",
    "    user_id = i\n",
    "    user_name = username[i-1]\n",
    "    email = generate_email()\n",
    "    password = generate_password()\n",
    "    degree_major_id = random.randint(1, 5)\n",
    "    event_type_id = random.randint(1, 4)\n",
    "    user_data.append((user_id,user_name,email, password, degree_major_id, event_type_id))\n",
    "\n",
    "# Write user data to CSV file\n",
    "with open('user_data.csv', 'w', newline='') as file:\n",
    "    writer = csv.writer(file)\n",
    "    writer.writerow(['userid','name', 'email', 'pwd', 'major_type_id', 'event_type_id'])\n",
    "    writer.writerows(user_data)\n"
   ]
  },
  {
   "cell_type": "markdown",
   "id": "81c0fa90-b46a-4853-9060-6e69d8b19c29",
   "metadata": {},
   "source": [
    "## Create Events data"
   ]
  },
  {
   "cell_type": "code",
   "execution_count": 22,
   "id": "cd75f908-3028-4731-a449-627c2578096a",
   "metadata": {},
   "outputs": [],
   "source": [
    "import csv\n",
    "import random\n",
    "import string\n",
    "from datetime import datetime, timedelta\n",
    "\n",
    "# Generate random event name\n",
    "def generate_event_name():\n",
    "    event_names = ['Hackathon', 'Conference', 'Workshop', 'Seminar', 'Networking Event']\n",
    "    return random.choice(event_names)\n",
    "\n",
    "# Generate random event description\n",
    "def generate_event_description():\n",
    "    event_descriptions = [\n",
    "        'Learn the latest technology trends from industry experts',\n",
    "        'Meet and network with like-minded professionals',\n",
    "        'Discover new ideas and strategies for success',\n",
    "        'Improve your skills and advance your career',\n",
    "        'Get inspired and motivated to achieve your goals'\n",
    "    ]\n",
    "    return random.choice(event_descriptions)\n",
    "\n",
    "# Generate random start date and end date\n",
    "def generate_dates():\n",
    "    start_date = datetime.now() + timedelta(days=random.randint(1, 30))\n",
    "    end_date = start_date + timedelta(hours=random.randint(1, 10))\n",
    "    return start_date.strftime('%Y-%m-%d %H:%M:%S'), end_date.strftime('%Y-%m-%d %H:%M:%S')\n",
    "\n",
    "# Generate event data\n",
    "event_data = []\n",
    "for i in range(1, 11):\n",
    "    event_id = i\n",
    "    event_name = generate_event_name()\n",
    "    event_description = generate_event_description()\n",
    "    event_type_id = random.randint(1, 4)\n",
    "    location_type_id = random.randint(1, 3)\n",
    "    start_date, end_date = generate_dates()\n",
    "    event_duration = (datetime.strptime(end_date, '%Y-%m-%d %H:%M:%S') - datetime.strptime(start_date, '%Y-%m-%d %H:%M:%S')).total_seconds() / 3600\n",
    "    event_capacity = random.randint(5, 100)\n",
    "    major_type_id = random.randint(1, 5)\n",
    "    event_data.append((event_id, event_name, event_description, event_type_id, location_type_id, start_date, end_date, event_duration, event_capacity, major_type_id))\n",
    "\n",
    "# Write event data to CSV file\n",
    "with open('event_data.csv', 'w', newline='') as file:\n",
    "    writer = csv.writer(file)\n",
    "    writer.writerow(['EventID', 'Event name', 'Event description', 'EventTypeID', 'LocationTypeID', 'startdate', 'enddate', 'eventduration', 'eventCapacity', 'MajorTypeID'])\n",
    "    writer.writerows(event_data)\n"
   ]
  },
  {
   "cell_type": "markdown",
   "id": "59e1ff51-9318-4dda-a216-ba08d7f373ca",
   "metadata": {},
   "source": [
    "## Create Event Type data"
   ]
  },
  {
   "cell_type": "code",
   "execution_count": 23,
   "id": "3487a0f7-4ef5-4477-b348-700c995b038f",
   "metadata": {
    "tags": []
   },
   "outputs": [],
   "source": [
    "import csv\n",
    "\n",
    "# Event types data\n",
    "event_types = [\n",
    "    {\"event_type_id\": 1, \"event_type\": \"Educational\"},\n",
    "    {\"event_type_id\": 2, \"event_type\": \"Party\"},\n",
    "    {\"event_type_id\": 3, \"event_type\": \"Games\"},\n",
    "    {\"event_type_id\": 4, \"event_type\": \"Meetup\"}\n",
    "]\n",
    "\n",
    "# Write event types data to csv file\n",
    "with open('event_types.csv', mode='w', newline='') as file:\n",
    "    writer = csv.DictWriter(file, fieldnames=[\"event_type_id\", \"event_type\"])\n",
    "    writer.writeheader()\n",
    "    for event_type in event_types:\n",
    "        writer.writerow(event_type)\n"
   ]
  },
  {
   "cell_type": "markdown",
   "id": "cc57ff7b-43fc-40ef-b1c6-f8eeeada67dc",
   "metadata": {},
   "source": [
    "## Create Location data"
   ]
  },
  {
   "cell_type": "code",
   "execution_count": 24,
   "id": "40316930-a378-4405-b578-72a41df5ec8e",
   "metadata": {
    "tags": []
   },
   "outputs": [],
   "source": [
    "import csv\n",
    "\n",
    "# Location types data\n",
    "location_types = [\n",
    "    {\"location_type_id\": 1, \"location_type\": \"Indoor\"},\n",
    "    {\"location_type_id\": 2, \"location_type\": \"Outdoor\"},\n",
    "    {\"location_type_id\": 3, \"location_type\": \"Virtual\"}\n",
    "]\n",
    "\n",
    "# Write location types data to csv file\n",
    "with open('location_types.csv', mode='w', newline='') as file:\n",
    "    writer = csv.DictWriter(file, fieldnames=[\"location_type_id\", \"location_type\"])\n",
    "    writer.writeheader()\n",
    "    for location_type in location_types:\n",
    "        writer.writerow(location_type)\n"
   ]
  },
  {
   "cell_type": "markdown",
   "id": "7e7ead35-bae7-4f4b-819d-b8d25213a681",
   "metadata": {},
   "source": [
    "## Create Major data"
   ]
  },
  {
   "cell_type": "code",
   "execution_count": 25,
   "id": "300c5a04-45cc-42d0-9e98-7b2ad5a6dc34",
   "metadata": {
    "tags": []
   },
   "outputs": [],
   "source": [
    "import csv\n",
    "\n",
    "# Major types data\n",
    "major_types = [\n",
    "    {\"major_type_id\": 1, \"major_type\": \"Data Science\"},\n",
    "    {\"major_type_id\": 2, \"major_type\": \"Computer Science\"},\n",
    "    {\"major_type_id\": 3, \"major_type\": \"Human Computer Interaction\"},\n",
    "    {\"major_type_id\": 4, \"major_type\": \"Finance and Analytics\"},\n",
    "    {\"major_type_id\": 5, \"major_type\": \"Packaging Science\"}\n",
    "]\n",
    "\n",
    "# Write major types data to csv file\n",
    "with open('major_types.csv', mode='w', newline='') as file:\n",
    "    writer = csv.DictWriter(file, fieldnames=[\"major_type_id\", \"major_type\"])\n",
    "    writer.writeheader()\n",
    "    for major_type in major_types:\n",
    "        writer.writerow(major_type)\n"
   ]
  }
 ],
 "metadata": {
  "kernelspec": {
   "display_name": "Python 3 (ipykernel)",
   "language": "python",
   "name": "python3"
  },
  "language_info": {
   "codemirror_mode": {
    "name": "ipython",
    "version": 3
   },
   "file_extension": ".py",
   "mimetype": "text/x-python",
   "name": "python",
   "nbconvert_exporter": "python",
   "pygments_lexer": "ipython3",
   "version": "3.9.7"
  },
  "vscode": {
   "interpreter": {
    "hash": "aee8b7b246df8f9039afb4144a1f6fd8d2ca17a180786b69acc140d282b71a49"
   }
  }
 },
 "nbformat": 4,
 "nbformat_minor": 5
}
